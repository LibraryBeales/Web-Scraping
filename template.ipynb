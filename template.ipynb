{
 "cells": [
  {
   "attachments": {},
   "cell_type": "markdown",
   "metadata": {},
   "source": [
    "Created by David Beales for the [Kelvin Smith Library](https://case.edu/library/) at [Case Western Reserve University](https://case.edu) under [Creative Commons CC BY License](https://creativecommons.org/licenses/by/4.0/)<br />\n",
    "For questions/comments/improvements, email rdb104@case.edu.<br />\n",
    "___"
   ]
  },
  {
   "attachments": {},
   "cell_type": "markdown",
   "metadata": {},
   "source": [
    "# Web Scraping: Making a Request and Receiving a Response\n",
    "\n",
    "**Description:** This lesson introduces the basic web scraping workflow using the `requests` library for Python.  \n",
    "\n",
    "**Use Case:** For Learners (Additional explanation, not ideal for researchers)\n",
    "\n",
    "**Difficulty:** Beginner\n",
    "\n",
    "**Completion time:** 15 minutes\n",
    "\n",
    "**Knowledge Required:** Basic Python\n",
    "\n",
    "**Knowledge Recommended:** HTML Structure\n",
    "\n",
    "**Data Format:** `html`, `txt`, `py` \n",
    "\n",
    "**Libraries Used:** `requests` to demonstrate code cell execution\n",
    "___"
   ]
  },
  {
   "attachments": {},
   "cell_type": "markdown",
   "metadata": {},
   "source": [
    "## Introduction\n",
    "Welcome to your first web scraping project.  "
   ]
  },
  {
   "attachments": {},
   "cell_type": "markdown",
   "metadata": {},
   "source": [
    "### HTTP Requests: Sending a request and checking for a response.\n",
    "\n",
    "HTTP is a protocol for fethcing resources like HTML documents, images, video, ads (yuck), and other content that make up a web page.  HTTP is a client-server protocol meaning that the client, usually a web browser, initiates a request and the server(s) sends a response.  This is where the python package `requests` gets its name, from the request piece of the request/response exchange.\n",
    "\n",
    "Web scraping doesn't use a web browser to initiate an HTTP request. We are going to use a Python script instead.  \n",
    "\n",
    "Before we can begin using a Python package, we have to import it.  Run the cell below to import the `requests` package."
   ]
  },
  {
   "cell_type": "code",
   "execution_count": null,
   "metadata": {},
   "outputs": [],
   "source": [
    "import requests  #https://requests.readthedocs.io/"
   ]
  },
  {
   "attachments": {},
   "cell_type": "markdown",
   "metadata": {},
   "source": [
    "Now that the `requests` package has been imported we can use the various excellent commands that are built into the package. \n",
    "`requests.get` will send a `get` request to a web address that you specify.  Makes sense, right?\n",
    "\n",
    "Try running the code below.  What response do you get?"
   ]
  },
  {
   "cell_type": "code",
   "execution_count": null,
   "metadata": {},
   "outputs": [],
   "source": [
    "requests.get('https://api.github.com/events')"
   ]
  },
  {
   "attachments": {},
   "cell_type": "markdown",
   "metadata": {},
   "source": [
    "Python sent a request to the URL we specified, https://api.github.com/events in this case.  The response we got back is the first piece of information you need when web scraping.  Could we connect?!\n",
    "\n",
    "The 200 is one of what are called **http response status codes** and it means our attempt to connect was a success.  Excellent!\n",
    "\n",
    "A code in the 400s or 500s would mean there was an error connecting to the server.  \n",
    "\n",
    "If you want to learn more about the status codes, you can check out the developer documentation from Mozilla here: https://developer.mozilla.org/en-US/docs/Web/HTTP/Status."
   ]
  },
  {
   "attachments": {},
   "cell_type": "markdown",
   "metadata": {},
   "source": [
    "### Viewing the content of a response.\n",
    "\n",
    "Now that we've made a successful connection to a website, we can start to look at the information that was returned by our `get` request.  \n",
    "\n",
    "The first thing we'll need to do  is store the results of our request in a variable so we can look at the content without repeatedly sending requests to the web server.\n",
    "\n",
    "THe code below is the same as our first `get` request, but it is stored in the variable `r`.  You could name this variable anything you wanted.  In this example we chose r as a short verison of response.  If you change the variable name here, you'll have to change it in all the following code examples as well.  So, just leave it as `r` for now.  \n",
    "\n",
    "When you're ready, run the code cell below."
   ]
  },
  {
   "cell_type": "code",
   "execution_count": null,
   "metadata": {},
   "outputs": [],
   "source": [
    "r = requests.get('https://api.github.com/events')"
   ]
  },
  {
   "attachments": {},
   "cell_type": "markdown",
   "metadata": {},
   "source": []
  },
  {
   "attachments": {},
   "cell_type": "markdown",
   "metadata": {},
   "source": [
    "#### Try this!\n",
    "* Does it matter if you use single or double quotes?\n",
    "* Can you also insert a comment into the code cell?\n",
    "* Can you write code and a comment on a single line? Which must come first?"
   ]
  },
  {
   "attachments": {},
   "cell_type": "markdown",
   "metadata": {},
   "source": [
    "After your code runs, you'll receive any output and a number will appear in the pair of brackets `[ ]:` to the left of the code cell to show the order the cell was run. If your code is complicated or takes some time to execute, an asterisk * will be displayed in the pair of brackets `[*]:` while the code executes. \n",
    "\n",
    "Execute the code cell below which:\n",
    "\n",
    "1. Prints \"Waiting 5 seconds...\"\n",
    "2. Waits 5 seconds\n",
    "3. Prints \"Done\"\n",
    "\n",
    "As the program is running, watch the pair of brackets and you will see the code is running `[*]:`."
   ]
  },
  {
   "cell_type": "code",
   "execution_count": null,
   "metadata": {},
   "outputs": [],
   "source": [
    "print('Waiting 5 seconds...')\n",
    "import time\n",
    "time.sleep(5)\n",
    "print('Done')"
   ]
  },
  {
   "attachments": {},
   "cell_type": "markdown",
   "metadata": {},
   "source": [
    "If you missed the asterisk, you can run the code cell as many times as you like. Notice that each time you run a [code cell](https://docs.constellate.org/key-terms/#code-cell) the number increases in the pair of brackets `[ ]:`. This keeps track of the order cells were run. While we will always run code in order from top to bottom, keep in mind that [code cells](https://docs.constellate.org/key-terms/#code-cell) can be run in any order. If you run a [code cell](https://docs.constellate.org/key-terms/#code-cell) at the bottom of a notebook that depends on the output of a [code cell](https://docs.constellate.org/key-terms/#code-cell) at the top, you will probably get an error. When you get an error, it's a good idea to check if you missed a [code cell](https://docs.constellate.org/key-terms/#code-cell) earlier that needed to be run first."
   ]
  },
  {
   "cell_type": "code",
   "execution_count": null,
   "metadata": {},
   "outputs": [],
   "source": []
  },
  {
   "attachments": {},
   "cell_type": "markdown",
   "metadata": {},
   "source": [
    "### Creating a Cell\n"
   ]
  },
  {
   "attachments": {},
   "cell_type": "markdown",
   "metadata": {},
   "source": [
    "By default, a [code cell](https://docs.constellate.org/key-terms/#code-cell) is created. To change the cell type, click on the dropdown menu.\n",
    "![Change cell type menu](https://ithaka-labs.s3.amazonaws.com/static-files/images/tdm/tdmdocs/change_code_cell.gif)"
   ]
  },
  {
   "attachments": {},
   "cell_type": "markdown",
   "metadata": {},
   "source": [
    "### Deleting a Cell\n",
    "\n",
    "![right clicking to delete cell](https://ithaka-labs.s3.amazonaws.com/static-files/images/tdm/tdmdocs/delete_cell.gif)\n",
    "\n",
    "\n",
    "To delete a [cell](https://docs.constellate.org/key-terms/#cell), select the [cell](https://docs.constellate.org/key-terms/#cell) (or set of cells) and select \"Delete Cells\" from the \"Edit\" menu. (Alternatively, press the key \"d\" twice.)\n"
   ]
  },
  {
   "attachments": {},
   "cell_type": "markdown",
   "metadata": {},
   "source": [
    "### Modifying a Cell\n",
    "\n",
    "The text in [code cells](https://docs.constellate.org/key-terms/#code-cell) can be quickly changed like a regular textbox. In order to change the content of a [markdown cell](https://docs.constellate.org/key-terms/#markdown-cell), you need to expose the markdown content underneath by double-clicking the [cell](https://docs.constellate.org/key-terms/#cell). This will reveal the plain text of the markdown that creates various elements like headings, links, images, etc. When you want the cell to render again, you can simply run it again by pushing the play button or pressing Ctrl + Enter (Windows) or shift + return (OS X) on your keyboard."
   ]
  },
  {
   "attachments": {},
   "cell_type": "markdown",
   "metadata": {},
   "source": [
    "## What is Markdown?\n",
    "\n",
    "If you are familiar with HTML, markdown is a simplified way to write HTML elements. Basically it allows you to mark out where headings, italics, bold, and other kinds of basic formatting go. In terms of styling, markdown is very minimalist. If you would like to include an element that is not included in markdown in your notebook, you can also use HTML and CSS in your [markdown cells](https://docs.constellate.org/key-terms/#markdown-cell)."
   ]
  },
  {
   "attachments": {},
   "cell_type": "markdown",
   "metadata": {},
   "source": [
    "# Heading\n",
    "\n",
    "Here is some *emphasis* and **bold**.\n",
    "\n",
    "* Item one\n",
    "* Item two\n",
    "* Item three\n",
    "\n",
    "1. item one\n",
    "2. item two\n",
    "3. item three\n",
    "\n",
    "This is a [link to jstor](http://jstor.org)."
   ]
  },
  {
   "attachments": {},
   "cell_type": "markdown",
   "metadata": {},
   "source": [
    "### How do I write my own Markdown?\n",
    "Here are some basic examples to get you started. Double-click on this cell to see how each was made. There are many markdown [cheatsheets](https://www.markdownguide.org/basic-syntax) available on the web.\n",
    "\n",
    "#### Headers\n",
    "\n",
    "|Markdown Syntax|Rendered Result|\n",
    "|---|---|\n",
    "|`# header title`| Largest header size |\n",
    "|`## header title`| Second largest header |\n",
    "|`### header title`| Third largest header |\n",
    "\n",
    "#### Emphasis\n",
    "\n",
    "*Use asterisks around texts to add emphasis, also known as italics*\n",
    "_You can also use underscores_\n",
    "~~A strike-thru effect is created with two tildes~~ ~~\n",
    "\n",
    "#### Lists\n",
    "\n",
    "A list of ordered items:\n",
    "1. List item 1\n",
    "2. List item 2\n",
    "\n",
    "Unordered items:\n",
    "* List item\n",
    "* Also a list item\n",
    "\n",
    "+ A list item\n",
    "+ Another list item\n",
    "\n",
    "- Also an item\n",
    "- The last item\n",
    "\n",
    "#### Links\n",
    "\n",
    "This is a link to [JSTOR](http://jstor.org). \n",
    "\n",
    "#### Images\n",
    "\n",
    "![Description of the image for accessibility(a jstor logo)](https://ithaka-labs.s3.amazonaws.com/static-files/images/tdm/tdmdocs/logoJSTOR.png)\n",
    "\n",
    "#### Horizontal Rule\n",
    "\n",
    "Create a horizontal rule with three hyphens, asterisks, or underscores.\n",
    "____"
   ]
  },
  {
   "attachments": {},
   "cell_type": "markdown",
   "metadata": {},
   "source": [
    "## Lesson Complete\n",
    "\n",
    "Congratulations! You have completed \"Getting Started with Jupyter Notebooks.\" If you have never programmed in [Python](https://docs.constellate.org/key-terms/#python) before, we recommend you complete:\n",
    "* *Python Basics* I\n",
    "* *Python Basics* II\n",
    "* *Python Basics* III\n",
    "\n",
    "### Start Next Lesson: [Python Basics I](./python-basics-1.ipynb)"
   ]
  }
 ],
 "metadata": {
  "kernelspec": {
   "display_name": "Python 3 (ipykernel)",
   "language": "python",
   "name": "python3"
  },
  "language_info": {
   "codemirror_mode": {
    "name": "ipython",
    "version": 3
   },
   "file_extension": ".py",
   "mimetype": "text/x-python",
   "name": "python",
   "nbconvert_exporter": "python",
   "pygments_lexer": "ipython3",
   "version": "3.9.7"
  },
  "toc": {
   "base_numbering": 1,
   "nav_menu": {},
   "number_sections": true,
   "sideBar": true,
   "skip_h1_title": true,
   "title_cell": "Table of Contents",
   "title_sidebar": "Contents",
   "toc_cell": false,
   "toc_position": {},
   "toc_section_display": true,
   "toc_window_display": false
  }
 },
 "nbformat": 4,
 "nbformat_minor": 4
}
